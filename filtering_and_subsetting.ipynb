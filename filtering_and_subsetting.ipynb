{
 "cells": [
  {
   "cell_type": "markdown",
   "metadata": {},
   "source": [
    "## Filtering and Subsetting Data in Python"
   ]
  },
  {
   "cell_type": "code",
   "execution_count": 5,
   "metadata": {},
   "outputs": [
    {
     "name": "stdout",
     "output_type": "stream",
     "text": [
      "   slice group  intensity    slope       fv\n",
      "0   f1.1    wt          0  0.00881  0.00401\n",
      "1   f1.1    wt         50  0.27161  0.12301\n",
      "2   f1.1    wt        100  0.11727  0.12882\n",
      "3   f1.1    wt        150  0.15019  0.18531\n",
      "4   f1.1    wt        200  0.21035  0.24114\n",
      "5   f1.1    wt        250  0.27902  0.28792\n",
      "6   f1.1    wt        300  0.34180  0.28619\n",
      "7   f1.1    wt        350  0.35618  0.29285\n",
      "8   m1.1   het          0  0.00610  0.00736\n",
      "9   m1.1   het         50  0.01526  0.16008\n",
      "10  m1.1   het        100  0.36316  0.27553\n",
      "11  m1.1   het        150  0.75073  0.38946\n",
      "12  m1.1   het        200  0.79345  0.38727\n",
      "13  m1.1   het        250  0.79953  0.40835\n",
      "14  m1.1   het        300  0.86364  0.45619\n",
      "15  m1.1   het        350  0.83618  0.47252\n"
     ]
    }
   ],
   "source": [
    "import pandas as pd\n",
    "import os\n",
    "\n",
    "file_in = 'io_curve.csv'\n",
    "dir_in = r'D:\\OneDrive\\Code\\N-Coding\\Examples'\n",
    "os.chdir(dir_in)\n",
    "df = pd.read_csv (file_in)\n",
    "\n",
    "print(df)"
   ]
  },
  {
   "cell_type": "code",
   "execution_count": 6,
   "metadata": {},
   "outputs": [
    {
     "name": "stdout",
     "output_type": "stream",
     "text": [
      "  group slice  intensity    slope       fv\n",
      "0    wt  f1.1          0  0.00881  0.00401\n",
      "1    wt  f1.1         50  0.27161  0.12301\n",
      "2    wt  f1.1        100  0.11727  0.12882\n",
      "3    wt  f1.1        150  0.15019  0.18531\n",
      "4    wt  f1.1        200  0.21035  0.24114\n",
      "5    wt  f1.1        250  0.27902  0.28792\n",
      "6    wt  f1.1        300  0.34180  0.28619\n",
      "7    wt  f1.1        350  0.35618  0.29285\n"
     ]
    }
   ],
   "source": [
    "# By default, the index is the row number, but this can be easily changed\n",
    "\n",
    "df2 = df.set_index('group')  # Set the group as the index\n",
    "df2 = df2[df2.index == 'wt']   # Keep only the rows with wt in the group column\n",
    "df2 = df2.reset_index()         # Sets the index back to row number\n",
    "print(df2)"
   ]
  },
  {
   "cell_type": "code",
   "execution_count": 12,
   "metadata": {},
   "outputs": [
    {
     "name": "stdout",
     "output_type": "stream",
     "text": [
      "  slice group  intensity    slope       fv\n",
      "0  f1.1    wt          0  0.00881  0.00401\n",
      "1  f1.1    wt         50  0.27161  0.12301\n",
      "2  f1.1    wt        100  0.11727  0.12882\n",
      "3  f1.1    wt        150  0.15019  0.18531\n",
      "4  f1.1    wt        200  0.21035  0.24114\n",
      "5  f1.1    wt        250  0.27902  0.28792\n",
      "6  f1.1    wt        300  0.34180  0.28619\n",
      "7  f1.1    wt        350  0.35618  0.29285\n"
     ]
    }
   ],
   "source": [
    "# You can also select by referencing the value in the relevant column\n",
    "\n",
    "df3 = df[df['group'] == 'wt']\n",
    "print (df3)"
   ]
  },
  {
   "cell_type": "code",
   "execution_count": 14,
   "metadata": {},
   "outputs": [
    {
     "name": "stdout",
     "output_type": "stream",
     "text": [
      "  slice group  intensity    slope       fv\n",
      "0  f1.1    wt          0  0.00881  0.00401\n",
      "1  f1.1    wt         50  0.27161  0.12301\n",
      "2  f1.1    wt        100  0.11727  0.12882\n",
      "3  f1.1    wt        150  0.15019  0.18531\n",
      "4  f1.1    wt        200  0.21035  0.24114\n",
      "5  f1.1    wt        250  0.27902  0.28792\n",
      "6  f1.1    wt        300  0.34180  0.28619\n",
      "7  f1.1    wt        350  0.35618  0.29285\n"
     ]
    }
   ],
   "source": [
    "# Brackets can get messy, so a cleaner way to write the above code is to use df.group instead of df['group']\n",
    "\n",
    "df4 = df[df.group == 'wt']\n",
    "print(df4)"
   ]
  },
  {
   "cell_type": "code",
   "execution_count": 17,
   "metadata": {},
   "outputs": [
    {
     "name": "stdout",
     "output_type": "stream",
     "text": [
      "  slice group  intensity    slope       fv\n",
      "0  f1.1    wt          0  0.00881  0.00401\n",
      "1  f1.1    wt         50  0.27161  0.12301\n",
      "2  f1.1    wt        100  0.11727  0.12882\n",
      "3  f1.1    wt        150  0.15019  0.18531\n",
      "4  f1.1    wt        200  0.21035  0.24114\n",
      "5  f1.1    wt        250  0.27902  0.28792\n",
      "6  f1.1    wt        300  0.34180  0.28619\n",
      "7  f1.1    wt        350  0.35618  0.29285\n"
     ]
    }
   ],
   "source": [
    "# You can also select data with .iloc if you prefer working with column and row numbers instead of names.\n",
    "\n",
    "df5 = df.iloc[0:8][:] # Selects Rows 1-7, all columns\n",
    "print (df5)"
   ]
  },
  {
   "cell_type": "code",
   "execution_count": 18,
   "metadata": {},
   "outputs": [
    {
     "name": "stdout",
     "output_type": "stream",
     "text": [
      "        fv group  intensity slice    slope\n",
      "0  0.00401    wt        0.0  f1.1  0.00881\n",
      "1  0.12301    wt       50.0  f1.1  0.27161\n",
      "2  0.12882    wt      100.0  f1.1  0.11727\n",
      "3  0.18531    wt      150.0  f1.1  0.15019\n",
      "4  0.24114    wt      200.0  f1.1  0.21035\n",
      "5  0.28792    wt      250.0  f1.1  0.27902\n",
      "6  0.28619    wt      300.0  f1.1  0.34180\n",
      "7  0.29285    wt      350.0  f1.1  0.35618\n"
     ]
    }
   ],
   "source": [
    "# This is handy for iterative calls where the index or column number can be replaced with a counter variable \n",
    "\n",
    "df6 = pd.DataFrame()\n",
    "for i in range (0,8):\n",
    "    temp = df.iloc[i][:]\n",
    "    df6 = df6.append(temp)\n",
    "    \n",
    "print (df6)"
   ]
  },
  {
   "cell_type": "code",
   "execution_count": null,
   "metadata": {},
   "outputs": [],
   "source": []
  }
 ],
 "metadata": {
  "kernelspec": {
   "display_name": "Python 3",
   "language": "python",
   "name": "python3"
  },
  "language_info": {
   "codemirror_mode": {
    "name": "ipython",
    "version": 3
   },
   "file_extension": ".py",
   "mimetype": "text/x-python",
   "name": "python",
   "nbconvert_exporter": "python",
   "pygments_lexer": "ipython3",
   "version": "3.7.3"
  }
 },
 "nbformat": 4,
 "nbformat_minor": 2
}
